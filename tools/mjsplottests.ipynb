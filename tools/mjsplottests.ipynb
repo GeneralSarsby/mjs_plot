{
 "cells": [
  {
   "cell_type": "code",
   "execution_count": null,
   "metadata": {
    "collapsed": false,
    "scrolled": true
   },
   "outputs": [],
   "source": [
    "# MJSplot -  Jupyter notebook intergration\n",
    "# http://generalsarsby.github.io/mjs_plot/\n",
    "#\n",
    "# Matthew Sarsby 2016\n",
    "#\n",
    "# This is a way to work with MJSplot graphs inside a Jupyter notebook.\n",
    "# It has been tested in Python 2\n",
    "# It are currentlly using an unreleased beta version 0_4_n of the mjsplot API\n",
    "#\n",
    "\n",
    "import mjsplot as mplt\n",
    "\n",
    "#some sample data. This could be any numeric array like\n",
    "x = [30,41.75,53.5,65.25,77,88.75,100.5,112.25,124,135.75,147.5,159.25,171,182.75,194.5,206.25,218,229.75,241.5,253.25,265,276.75,288.5,300.25,312,323.75,335.5,347.25];\n",
    "y = [  36.,   25.,   75.,  103.,  164.,  168.,  157.,  233.,  177., 197.,  250.,  281.,  287.,  302.,  339.,  374.,  350.,  377.,381.,  419.,  463.,  475.,  447.,  510.,  505.,  548.,  534.,576.,  568.,  630.,  636.,  653.,  661.,  690.,  702.,  745.,785.,  739.,  796.,  816.,  834.,  852.,  856.,  867.,  904.,934.,  938.,  965.,  949.,  984.]\n",
    "y2=[ 346.,  339.,  329.,  351.,  364.,  356.,  422.,  406.,  384.,390.,  395.,  436.,  402.,  464.,  456.,  479.,  467.,  504.,509.,  497.,  568.,  511.,  541.,  541.,  588.,  533.,  568.,558.,  598.,  609.,  598.,  620.,  655.,  661.,  670.,  623.,651.,  683.,  682.,  660.,  705.,  703.,  738.,  735.,  764.,798.,  771.,  804.,  828.,  786.]\n",
    "\n",
    "mplt.plot(x,y,label='aline') #call plot with x and y as you would normally in matplotlib / matlab\n",
    "mplt.plot(x,y2,label='bline') #other plot functions work as expected, loglog, semilogx, and semilogy\n",
    "\n",
    "#set up the graph, these can be overwritten using the GUI later\n",
    "mplt.xlabel('whatever')\n",
    "mplt.ylabel('a thing /units')\n",
    "mplt.title('example graph','with a subtitle','and subsubtitle')\n",
    "mplt.grid(True) #switch the grid on an off, default:False\n",
    "\n",
    "#save the graph to a file, and it is loaded below using Ipython magic (actual technical name).\n",
    "#by default this is saved in a folder /mjsplotGraphs/, this can be customised.\n",
    "mplt.save('testgraph', width='100%', height='300px')\n",
    "#width and height are any css sizes, i.e. '50%', '400px', '20em'. "
   ]
  },
  {
   "cell_type": "code",
   "execution_count": null,
   "metadata": {
    "collapsed": false
   },
   "outputs": [],
   "source": [
    "#working with numpy and pandas and datetimes\n",
    "import numpy as np\n",
    "import pandas as pd\n",
    "\n",
    "times = pd.date_range('2016-01-01', periods=72, freq='H')\n",
    "data = np.random.normal(0,1,72)\n",
    "mplt.timeseries(times,data)\n",
    "mplt.title('working with times')\n",
    "mplt.save('numpy_and_pandas')"
   ]
  },
  {
   "cell_type": "code",
   "execution_count": null,
   "metadata": {
    "collapsed": false
   },
   "outputs": [],
   "source": [
    "#additional configuration\n",
    "\n",
    "x = np.linspace(-10,10,50)\n",
    "y = np.sin(x) + x/2\n",
    "\n",
    "mplt.plot(x,y)\n",
    "\n",
    "mplt.xlabel('x')\n",
    "mplt.ylabel('y')\n",
    "mplt.title('sin(x)+x/2')\n",
    "\n",
    "#optional: force the garph to use the defauts we set.\n",
    "mplt.useDefaults()\n",
    "#The graph will try and keep persistant changes if modified using the GUI,\n",
    "#This forces it to use the code.\n",
    "#not calling this would allow GUI changes to be persistant between graph redraws.\n",
    "\n",
    "#optional: advanced styling options. if you want to set them by code you can. Everything is editable by the GUI.\n",
    "mplt.setStyle(\"color_fg\",\"#222\")\n",
    "mplt.setStyle(\"color_bg\",\"white\")\n",
    "mplt.setStyle(\"font_name\",\"Helvetica\")\n",
    "mplt.setStyle(\"line_thickness\",2) #thickness of plotted lines \n",
    "mplt.setStyle(\"graph_line_thickness\",1) #thickness of the graphlines\n",
    "mplt.setStyle(\"scaling_factor\",1.4) #make everything bigger/smaller just like scaling the dpi setting\n",
    "\n",
    "#optional: setup a different save folder, default is /mjsplotGraphs/\n",
    "mplt.setupGraphFolder('figures')\n",
    "\n",
    "mplt.save('moreConfigs')"
   ]
  },
  {
   "cell_type": "code",
   "execution_count": null,
   "metadata": {
    "collapsed": false
   },
   "outputs": [],
   "source": [
    "#we can work alongside matplotlib in many cases\n",
    "\n",
    "import matplotlib.pyplot as plt\n",
    "%matplotlib inline\n"
   ]
  },
  {
   "cell_type": "code",
   "execution_count": null,
   "metadata": {
    "collapsed": false
   },
   "outputs": [],
   "source": [
    "#make graphs using matplotlib\n",
    "plt.plot(x,1/(y+10)) # x and y are the numpy arrays we created earlier\n",
    "plt.xlabel('This is x')\n",
    "plt.ylabel('This is y')\n",
    "plt.title('Graph Title')\n",
    "\n",
    "#use mjsplot get get data from matplotlib:\n",
    "mplt.dataFromPlot(plt)\n",
    "\n",
    "#save and view the created mjsplot graph\n",
    "mplt.save('frommatplotlib')"
   ]
  },
  {
   "cell_type": "code",
   "execution_count": null,
   "metadata": {
    "collapsed": false
   },
   "outputs": [],
   "source": [
    "\n",
    "#I have created a set theme for working with thesis and papers\n",
    "mplt.plot(x,1/(y+10),'decay patten') # x and y are the numpy arrays we created earlier\n",
    "mplt.xlabel('This is x')\n",
    "mplt.ylabel('This is y')\n",
    "mplt.title('Graph for print')\n",
    "mplt.axis([-15,15,0.0,0.2]) # takes a list [xmin, xmax, ymin, ymax]. the same as matplotlib\n",
    "\n",
    "\n",
    "# this changes the fonts, the line width, and colors to work with my thesis.\n",
    "# you can write your own easly too.\n",
    "mplt.thesisStyle()\n",
    "\n",
    "mplt.useDefaults() # forse the graph to always use the style defined in the code.\n",
    "\n",
    "# set the size of the figure here. \n",
    "mplt.save('thesisStyleGraph',width='418px',height='258px')\n",
    "\n",
    "#to save a svg or high resolution png use the export menu in the bottom right corner of the graph.\n",
    "# because we spesified the size above we don't need to use any of the 'figure large', or 'figure small' options.\n",
    "# if there is masses of data we can also use the svg+png option that will render the\n",
    "# data layer as a high resolution png, but the text and axis will be vectors.\n",
    "\n",
    "# in my workflow I always then make some final edits in Inkscape and save to pdf+latex.\n"
   ]
  }
 ],
 "metadata": {
  "kernelspec": {
   "display_name": "Python 2",
   "language": "python",
   "name": "python2"
  },
  "language_info": {
   "codemirror_mode": {
    "name": "ipython",
    "version": 2
   },
   "file_extension": ".py",
   "mimetype": "text/x-python",
   "name": "python",
   "nbconvert_exporter": "python",
   "pygments_lexer": "ipython2",
   "version": "2.7.6"
  }
 },
 "nbformat": 4,
 "nbformat_minor": 0
}
